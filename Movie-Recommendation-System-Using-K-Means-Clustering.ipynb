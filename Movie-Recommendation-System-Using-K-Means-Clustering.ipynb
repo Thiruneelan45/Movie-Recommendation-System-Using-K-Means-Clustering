{
  "nbformat": 4,
  "nbformat_minor": 0,
  "metadata": {
    "colab": {
      "provenance": []
    },
    "kernelspec": {
      "name": "python3",
      "display_name": "Python 3"
    },
    "language_info": {
      "name": "python"
    }
  },
  "cells": [
    {
      "cell_type": "code",
      "execution_count": null,
      "metadata": {
        "id": "DbGfueu2bqja"
      },
      "outputs": [],
      "source": [
        "import pandas as pd\n",
        "from sklearn.preprocessing import LabelEncoder, StandardScaler\n",
        "from sklearn.cluster import KMeans\n",
        "import numpy as np\n"
      ]
    },
    {
      "cell_type": "code",
      "source": [
        "def recommend_movies(movie_title, df, n_clusters=5):\n",
        "    # Select relevant features\n",
        "    features = df[['inflation_adjusted_gross', 'total_gross']]\n",
        "    features = features.fillna(features.mean())\n",
        "\n",
        "    # Standardize the features\n",
        "    scaler = StandardScaler()\n",
        "    features_scaled = scaler.fit_transform(features)\n",
        "\n",
        "    # Apply K-Means clustering\n",
        "    kmeans = KMeans(n_clusters=n_clusters, random_state=42, n_init=10)\n",
        "    df['cluster'] = kmeans.fit_predict(features_scaled)\n",
        "\n",
        "    # Find the cluster for the given movie\n",
        "    movie_cluster = df[df['movie_title'] == movie_title]['cluster'].values[0]\n",
        "\n",
        "    # Recommend movies from the same cluster\n",
        "    recommended_movies = df[df['cluster'] == movie_cluster]['movie_title'].tolist()\n",
        "    recommended_movies.remove(movie_title)\n",
        "\n",
        "    return recommended_movies\n"
      ],
      "metadata": {
        "id": "-O5M3YfVbuAT"
      },
      "execution_count": null,
      "outputs": []
    },
    {
      "cell_type": "code",
      "source": [
        "file_path = \"/mnt/data/disney_movies.csv\"\n",
        "df = pd.read_csv(\"/content/disney_movies.csv\")\n"
      ],
      "metadata": {
        "id": "_eudQOloctmQ"
      },
      "execution_count": null,
      "outputs": []
    },
    {
      "cell_type": "code",
      "source": [
        "# Drop rows with missing critical values\n",
        "df.dropna(subset=['genre', 'mpaa_rating'], inplace=True)\n",
        "\n",
        "# Example usage\n",
        "movie_to_search = \"Cinderella\"\n",
        "recommendations = recommend_movies(movie_to_search, df)\n",
        "print(f\"Movies similar to {movie_to_search}: {recommendations}\")"
      ],
      "metadata": {
        "colab": {
          "base_uri": "https://localhost:8080/"
        },
        "id": "9Yuo86Jtc57P",
        "outputId": "fcf1eae3-0ee0-4d80-aaac-28df475fb44a"
      },
      "execution_count": null,
      "outputs": [
        {
          "output_type": "stream",
          "name": "stdout",
          "text": [
            "Movies similar to Cinderella: ['Pinocchio', 'Fantasia', 'Song of the South', 'Lady and the Tramp', '101 Dalmatians']\n"
          ]
        }
      ]
    }
  ]
}